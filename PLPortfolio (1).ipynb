{
 "cells": [
  {
   "cell_type": "code",
   "execution_count": 1,
   "id": "3dcb04f9-baa6-4475-9b51-ae7390173127",
   "metadata": {},
   "outputs": [],
   "source": [
    "# import yfinance and pandas\n",
    "import yfinance as yf\n",
    "import pandas as pd"
   ]
  },
  {
   "cell_type": "code",
   "execution_count": 2,
   "id": "8677cb81-7be3-4af2-8a18-1d0a95e7f103",
   "metadata": {},
   "outputs": [],
   "source": [
    "# create class Stock\n",
    "\n",
    "class Stock:\n",
    "\n",
    "    # attributes\n",
    "    def __init__(self, name, ticker, currentPrice):\n",
    "        self.ticker = ticker\n",
    "        self.name = name\n",
    "        self.currentPrice = currentPrice #this should eventually feed in\n",
    "        \n",
    "    # method to show info about the stock\n",
    "    def stockInfo(self):\n",
    "        print('Name: ' + self.name + '\\nTicker: ' + self.ticker + '\\nPrice: ' + str(self.currentPrice))\n",
    "\n",
    "    # method to update the price\n",
    "    def stockChangePrice(self, newPrice):\n",
    "        self.currentPrice = newPrice\n",
    "\n",
    "    # add everything to a dictionary (so we can later loop through all the dictionaries in the portfolio, and add them to a df)\n",
    "    def stockDict(self):\n",
    "        dict = {'Ticker':self.ticker, 'Name':self.name, 'Price':self.currentPrice}\n",
    "        return dict"
   ]
  },
  {
   "cell_type": "code",
   "execution_count": 3,
   "id": "5b1ef956-230d-4a09-86de-a6a63ab6d43d",
   "metadata": {},
   "outputs": [
    {
     "name": "stdout",
     "output_type": "stream",
     "text": [
      "Name: tesla\n",
      "Ticker: TSLA\n",
      "Price: 45\n"
     ]
    },
    {
     "data": {
      "text/plain": [
       "{'Ticker': 'APPL', 'Name': 'apple', 'Price': 100}"
      ]
     },
     "execution_count": 3,
     "metadata": {},
     "output_type": "execute_result"
    }
   ],
   "source": []
  },
  {
   "cell_type": "code",
   "execution_count": 11,
   "id": "60b5de90-6b4a-444d-ba38-f3cf0fc41cd8",
   "metadata": {},
   "outputs": [],
   "source": [
    "# create class Portfolio, which should hold stocks, and have methods to add and remove stocks from the portfolio\n",
    "class Portfolio:\n",
    "\n",
    "    # attributes\n",
    "    def __init__(self, stocks):\n",
    "        self.stocks = stocks\n",
    "\n",
    "    # need to add some method to have the purchase date, which should default to today, but can be changed\n",
    "\n",
    "    # add a stock to the portfolio\n",
    "    def portfolioAddStock(self, stock):\n",
    "        self.stocks.append(stock)\n",
    "\n",
    "    # remove a stock from the portfolio\n",
    "    def portfolioRemoveStock(self, stock):\n",
    "        self.stocks = [stock for stock in self.stocks if stock.name != stock_name]\n",
    "\n",
    "    # show all the stocks in the portfolio \n",
    "    def portfolioInfo(self):\n",
    "        for stock in self.stocks: \n",
    "            print(str(stock.stockInfo()) + '\\n')\n",
    "\n",
    "    # add all stocks in portfolio to df\n",
    "    def portfolioDF(self):\n",
    "        \n",
    "        # make a list to store all the stock dictionaries in, which i will later convert into a dataframe\n",
    "        dictList = []\n",
    "       \n",
    "        # convert all the stock objects into a dictionary, using a method defined in Stock class\n",
    "        for stock in self.stocks:\n",
    "           \n",
    "            # put details for each stock into a dictionary\n",
    "            stockInDict = stock.stockDict()\n",
    "            \n",
    "            # add each of the dictionaries to the list \n",
    "            dictList.append(stockInDict)\n",
    "        \n",
    "        # convert the list containing dictionaries to a df\n",
    "        df = pd.DataFrame(dictList)\n",
    "        \n",
    "        return df"
   ]
  },
  {
   "cell_type": "code",
   "execution_count": 13,
   "id": "28936064-9f23-4023-bbd2-4c501d08eda3",
   "metadata": {},
   "outputs": [
    {
     "name": "stdout",
     "output_type": "stream",
     "text": [
      "Name: tesla\n",
      "Ticker: TSLA\n",
      "Price: 12.99\n",
      "None\n",
      "\n",
      "Name: apple\n",
      "Ticker: APPL\n",
      "Price: 100\n",
      "None\n",
      "\n"
     ]
    },
    {
     "data": {
      "text/html": [
       "<div>\n",
       "<style scoped>\n",
       "    .dataframe tbody tr th:only-of-type {\n",
       "        vertical-align: middle;\n",
       "    }\n",
       "\n",
       "    .dataframe tbody tr th {\n",
       "        vertical-align: top;\n",
       "    }\n",
       "\n",
       "    .dataframe thead th {\n",
       "        text-align: right;\n",
       "    }\n",
       "</style>\n",
       "<table border=\"1\" class=\"dataframe\">\n",
       "  <thead>\n",
       "    <tr style=\"text-align: right;\">\n",
       "      <th></th>\n",
       "      <th>Ticker</th>\n",
       "      <th>Name</th>\n",
       "      <th>Price</th>\n",
       "    </tr>\n",
       "  </thead>\n",
       "  <tbody>\n",
       "    <tr>\n",
       "      <th>0</th>\n",
       "      <td>TSLA</td>\n",
       "      <td>tesla</td>\n",
       "      <td>12.99</td>\n",
       "    </tr>\n",
       "    <tr>\n",
       "      <th>1</th>\n",
       "      <td>APPL</td>\n",
       "      <td>apple</td>\n",
       "      <td>100.00</td>\n",
       "    </tr>\n",
       "  </tbody>\n",
       "</table>\n",
       "</div>"
      ],
      "text/plain": [
       "  Ticker   Name   Price\n",
       "0   TSLA  tesla   12.99\n",
       "1   APPL  apple  100.00"
      ]
     },
     "execution_count": 13,
     "metadata": {},
     "output_type": "execute_result"
    }
   ],
   "source": [
    "# add 2 stocks to the portfolio\n",
    "tesla = Stock('tesla', 'TSLA', 12.99) \n",
    "apple = Stock('apple', 'APPL', 100)\n",
    "\n",
    "# add the stocks we want to add to a list so we can add them to the portfolio\n",
    "stocksToAdd = [tesla, apple]\n",
    "\n",
    "# add the stocks to the portfolio, and view the portfolio as text and a dataframe\n",
    "portfolio = Portfolio(stocksToAdd)\n",
    "portfolio.portfolioInfo()\n",
    "portfolio.portfolioDF()"
   ]
  },
  {
   "cell_type": "code",
   "execution_count": null,
   "id": "af0b47e1-3682-4757-8747-1807be8b046d",
   "metadata": {},
   "outputs": [],
   "source": []
  }
 ],
 "metadata": {
  "kernelspec": {
   "display_name": "Python 3 (ipykernel)",
   "language": "python",
   "name": "python3"
  },
  "language_info": {
   "codemirror_mode": {
    "name": "ipython",
    "version": 3
   },
   "file_extension": ".py",
   "mimetype": "text/x-python",
   "name": "python",
   "nbconvert_exporter": "python",
   "pygments_lexer": "ipython3",
   "version": "3.10.13"
  }
 },
 "nbformat": 4,
 "nbformat_minor": 5
}
